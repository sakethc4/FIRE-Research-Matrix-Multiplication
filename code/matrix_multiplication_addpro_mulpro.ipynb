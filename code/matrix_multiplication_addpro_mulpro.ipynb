{
 "cells": [
  {
   "cell_type": "code",
   "execution_count": 1,
   "metadata": {
    "collapsed": true,
    "pycharm": {
     "name": "#%%\n"
    }
   },
   "outputs": [],
   "source": [
    "from memory_profiler import profile\n",
    "import pennylane as qml\n",
    "import pennylane.numpy as np\n",
    "import time\n",
    "from functools import wraps\n",
    "from line_profiler import LineProfiler\n",
    "import csv"
   ]
  },
  {
   "cell_type": "code",
   "execution_count": 2,
   "metadata": {
    "collapsed": false,
    "pycharm": {
     "name": "#%%\n"
    }
   },
   "outputs": [],
   "source": [
    "# wires_m=[0]\n",
    "# wires_solution=[1,2,3,4,5,6,7,8,9,10,11]\n",
    "\n",
    "# Since the matrix is entirely comprised of the value \"2\" (see where val is\n",
    "# defined), the input m only requires two qubits since 2 = 2^1 + 0 * 2^0.\n",
    "# For larger numbers, use the other uncommented wire setups below (note that \n",
    "# using a setup with fewer qubits than is required will throw an error, like\n",
    "# using the one qubit setup above for the value \"2\").\n",
    "\n",
    "wires_m=[0,1]\n",
    "wires_solution=[2,3,4,5,6,7,8,9,10,11,12]\n",
    "\n",
    "# wires_m=[0,1,2]\n",
    "# wires_solution=[3,4,5,6,7,8,9,10,11,12,13]\n",
    "#\n",
    "# wires_m=[0,1,2,3]\n",
    "# wires_solution=[4,5,6,7,8,9,10,11,12,13,14]\n",
    "\n",
    "# wires_m=[0,1,2,3,4]\n",
    "# wires_solution=[5,6,7,8,9,10,11,12,13,14,15]"
   ]
  },
  {
   "cell_type": "code",
   "execution_count": 3,
   "metadata": {
    "collapsed": false,
    "pycharm": {
     "name": "#%%\n"
    }
   },
   "outputs": [],
   "source": [
    "dev = qml.device(\"default.qubit\", wires=wires_m  + wires_solution, shots=1)\n",
    "# dev = qml.device(\"qiskit.ibmq\", wires=wires_m + wires_solution, shots=1000, backend='',overwrite=True, ibmqx_token='')\n",
    "\n",
    "n_wires = len(dev.wires)"
   ]
  },
  {
   "cell_type": "code",
   "execution_count": null,
   "metadata": {
    "collapsed": false,
    "pycharm": {
     "name": "#%%\n"
    }
   },
   "outputs": [],
   "source": [
    "# Used to calculate the time spent on addition, multiplication, and in total\n",
    "# for a single matrix multiplication. Time is returned in milliseconds.\n",
    "\n",
    "add_time=0\n",
    "mul_time=0\n",
    "total_time=0\n",
    "\n",
    "def calculate_time_add(func):\n",
    "    @wraps(func)\n",
    "    def wrapper(*args, **kwargs):\n",
    "        start = time.time()\n",
    "        result = func(*args, **kwargs)\n",
    "        end = time.time()\n",
    "        execution_time = (end - start) * 1000  # 转换成毫秒\n",
    "        global add_time\n",
    "        add_time+=execution_time\n",
    "        return result\n",
    "    return wrapper\n",
    "\n",
    "def calculate_time_mul(func):\n",
    "    @wraps(func)\n",
    "    def wrapper(*args, **kwargs):\n",
    "        start = time.time()\n",
    "        result = func(*args, **kwargs)\n",
    "        end = time.time()\n",
    "        execution_time = (end - start) * 1000  # 转换成毫秒\n",
    "        global mul_time\n",
    "        mul_time+=execution_time\n",
    "        return result\n",
    "    return wrapper\n",
    "\n",
    "def calculate_time(func):\n",
    "    @wraps(func)\n",
    "    def wrapper(*args, **kwargs):\n",
    "        start = time.time()\n",
    "        result = func(*args, **kwargs)\n",
    "        end = time.time()\n",
    "        execution_time = (end - start) * 1000  # 转换成毫秒\n",
    "        global total_time\n",
    "        total_time=execution_time\n",
    "        return result\n",
    "    return wrapper"
   ]
  },
  {
   "cell_type": "code",
   "execution_count": 4,
   "metadata": {
    "collapsed": false,
    "pycharm": {
     "name": "#%%\n"
    }
   },
   "outputs": [],
   "source": [
    "# Optimized addition circuit. \"k\" is encoded directly into the rotation gates\n",
    "# to reduce the number of gates and time taken to add the number \"k\" to the\n",
    "# specified accumulator.\n",
    "\n",
    "def add_k_fourier(k, wires):\n",
    "    for j in range(len(wires)):\n",
    "        qml.RZ(k * np.pi / (2**j), wires=wires[j])"
   ]
  },
  {
   "cell_type": "code",
   "execution_count": 5,
   "metadata": {
    "collapsed": false,
    "pycharm": {
     "name": "#%%\n"
    }
   },
   "outputs": [],
   "source": [
    "# Optimized multiplication circuit using optimized addition circuits.\n",
    "# Multiplication is implemented through repeated addition using an accumulator.\n",
    "\n",
    "def multiplication(k,wires_m, wires_solution):\n",
    "    for i in range(len(wires_m)-1,-1,-1):\n",
    "        qml.ctrl(add_k_fourier, control=wires_m[i])(k, wires_solution[len(wires_m)-1-i:])\n",
    "\n",
    "@calculate_time_mul\n",
    "@qml.qnode(dev)\n",
    "def mul(m,k):\n",
    "    qml.BasisEmbedding(m, wires=wires_m)  # m encoding\n",
    "    qml.QFT(wires=wires_solution)\n",
    "    multiplication(k,wires_m, wires_solution)\n",
    "    qml.adjoint(qml.QFT)(wires=wires_solution)\n",
    "    return qml.sample(wires=wires_solution)"
   ]
  },
  {
   "cell_type": "code",
   "execution_count": 6,
   "metadata": {
    "collapsed": false,
    "pycharm": {
     "name": "#%%\n"
    }
   },
   "outputs": [],
   "source": [
    "@calculate_time_add\n",
    "@qml.qnode(dev)\n",
    "def  sum_list(m):\n",
    "    qml.QFT(wires=range(len(wires_solution)))  # step 1\n",
    "    for i in range(len(m)):\n",
    "        add_k_fourier(m[i], wires=range(len(wires_solution)))\n",
    "    qml.adjoint(qml.QFT)(wires=range(len(wires_solution)))  # step 3\n",
    "    return qml.sample(wires=range(len(wires_solution)))"
   ]
  },
  {
   "cell_type": "code",
   "execution_count": 7,
   "metadata": {
    "collapsed": false,
    "pycharm": {
     "name": "#%%\n"
    }
   },
   "outputs": [],
   "source": [
    "# Global variables defining the two matrices to be multiplied together. \"k\"\n",
    "# represents the size of the matrices (e.g. k = 2 represents 2x2 matrices) and\n",
    "# val represents the value to fill the matrices with (e.g. val = 2 corresponds\n",
    "# to matrices where every entry is \"2\"). The program will perform:\n",
    "# matrix_a * matrix_b = matrix_c (result is stored in matrix_c)\n",
    "\n",
    "k=2\n",
    "val=2\n",
    "matrix_a=np.full((k,k),val)\n",
    "matrix_b=np.full((k,k),val)\n",
    "\n",
    "n=matrix_a.shape[0]\n",
    "m=matrix_b.shape[1]\n",
    "matrix_c=np.zeros((n,m))"
   ]
  },
  {
   "cell_type": "code",
   "execution_count": 10,
   "metadata": {
    "collapsed": false,
    "pycharm": {
     "name": "#%%\n"
    }
   },
   "outputs": [],
   "source": [
    "# Take the dot product between two vectors. Taking the dot product of every\n",
    "# row of matrix_a with every column of matrix_c allows for the construction of\n",
    "# matrix_c, their product.\n",
    "def dot(a,b):\n",
    "    listx=[]\n",
    "    for i in range(a.shape[0]):\n",
    "        mulnum=mul(int(a[i]),int(b[i]))\n",
    "        mulnum=int(''.join(map(str, list(mulnum))), 2)\n",
    "        listx.append(mulnum)\n",
    "    temp_res=sum_list(listx)\n",
    "    temp_res=int(''.join(map(str, list(temp_res))), 2)\n",
    "    return temp_res\n",
    "\n",
    "\n",
    "@calculate_time\n",
    "def matrix_multiplication_addpro_mulpro():\n",
    "    # For every row of matrix_a\n",
    "    for i in range(n):\n",
    "        # For every column of matrix_b\n",
    "        for j in range(m):\n",
    "            matrix_c[i, j] = dot(matrix_a[i], matrix_b[:, j])\n",
    "            # print(matrix_c[i,j])\n",
    "            print(matrix_c)"
   ]
  },
  {
   "cell_type": "code",
   "execution_count": 11,
   "metadata": {
    "collapsed": false,
    "pycharm": {
     "name": "#%%\n"
    }
   },
   "outputs": [
    {
     "name": "stdout",
     "output_type": "stream",
     "text": [
      "[[8. 0.]\n",
      " [0. 0.]]\n",
      "[[8. 8.]\n",
      " [0. 0.]]\n",
      "[[8. 8.]\n",
      " [8. 0.]]\n",
      "[[8. 8.]\n",
      " [8. 8.]]\n"
     ]
    }
   ],
   "source": [
    "if __name__=='__main__':\n",
    "    matrix_multiplication_addpro_mulpro()\n",
    "    # Add a new entry in the CSV file displaying the addition, multiplication,\n",
    "    # and total time to multiply matrix_a and matrix_b.\n",
    "    csv_file = open('multication_addpro_mulpro.csv', 'a', newline='')\n",
    "    writer = csv.writer(csv_file)\n",
    "    data = [['size', 'value', 'add_time', 'mul_time', 'total_time'], [k, val, add_time, mul_time, total_time]]\n",
    "    writer.writerows(data)\n",
    "    csv_file.close()"
   ]
  },
  {
   "cell_type": "code",
   "execution_count": null,
   "metadata": {
    "collapsed": false,
    "pycharm": {
     "name": "#%%\n"
    }
   },
   "outputs": [],
   "source": []
  }
 ],
 "metadata": {
  "kernelspec": {
   "display_name": "Python 3",
   "language": "python",
   "name": "python3"
  },
  "language_info": {
   "codemirror_mode": {
    "name": "ipython",
    "version": 2
   },
   "file_extension": ".py",
   "mimetype": "text/x-python",
   "name": "python",
   "nbconvert_exporter": "python",
   "pygments_lexer": "ipython2",
   "version": "2.7.6"
  }
 },
 "nbformat": 4,
 "nbformat_minor": 0
}
